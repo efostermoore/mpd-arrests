{
 "cells": [
  {
   "cell_type": "markdown",
   "metadata": {},
   "source": [
    "# Quick analysis of seven years of MPD arrest data"
   ]
  },
  {
   "cell_type": "code",
   "execution_count": 1,
   "metadata": {},
   "outputs": [],
   "source": [
    "import pandas as pd\n",
    "import numpy as np\n",
    "\n",
    "import matplotlib.pyplot as plt\n",
    "\n",
    "%matplotlib inline"
   ]
  },
  {
   "cell_type": "markdown",
   "metadata": {},
   "source": [
    "You can download the data from this page: https://mpdc.dc.gov/node/1379551\n",
    "* 2019: https://mpdc.dc.gov/sites/default/files/dc/sites/mpdc/publication/attachments/Arrests%20by%20Year%2C%202019.csv\n",
    "* 2018: https://mpdc.dc.gov/sites/default/files/dc/sites/mpdc/publication/attachments/Arrests%20by%20Year%2C%202018.csv\n",
    "* 2017: https://mpdc.dc.gov/sites/default/files/dc/sites/mpdc/publication/attachments/Arrests%202017%20Public.csv\n",
    "* 2016: https://mpdc.dc.gov/sites/default/files/dc/sites/mpdc/publication/attachments/Arrests%202016%20Public.csv\n",
    "* 2015: https://mpdc.dc.gov/sites/default/files/dc/sites/mpdc/publication/attachments/Arrests%202015%20Public.csv\n",
    "* 2014: https://mpdc.dc.gov/sites/default/files/dc/sites/mpdc/publication/attachments/Arrests%202014%20Public.csv\n",
    "* 2013: https://mpdc.dc.gov/sites/default/files/dc/sites/mpdc/publication/attachments/Arrests%202013%20Public.csv\n",
    "\n",
    "More useful code for analyzing MPD data here: https://github.com/thelabdc/NEAR-Act-Public"
   ]
  },
  {
   "cell_type": "code",
   "execution_count": 2,
   "metadata": {},
   "outputs": [],
   "source": [
    "# Load data\n",
    "raw_2013 = pd.read_csv('Arrests 2013 Public.csv')\n",
    "raw_2014 = pd.read_csv('Arrests 2014 Public.csv')\n",
    "raw_2015 = pd.read_csv('Arrests 2015 Public.csv')\n",
    "raw_2016 = pd.read_csv('Arrests 2016 Public.csv')\n",
    "raw_2017 = pd.read_csv('Arrests 2017 Public.csv')\n",
    "raw_2018 = pd.read_csv('Arrests 2018 Public.csv')\n",
    "raw_2019 = pd.read_csv('Arrests 2019 Public.csv')"
   ]
  },
  {
   "cell_type": "markdown",
   "metadata": {},
   "source": [
    "#### Datasets appear to include both misdemeanor and felony arrests\n",
    "For example, \"No Permit\" is a misdemeanor. So is \"Assault on a Police Officer (simple Assault)\". "
   ]
  },
  {
   "cell_type": "code",
   "execution_count": 3,
   "metadata": {},
   "outputs": [
    {
     "data": {
      "text/plain": [
       "Simple Assault                                       4962\n",
       "No Permit                                            2421\n",
       "Unlawful Entry                                       1433\n",
       "Sexual Solicitation                                  1245\n",
       "Fugitive From Justice                                1131\n",
       "Theft Second Degree (all Other Larceny)               971\n",
       "Driving Under Influence-1st Off                       942\n",
       "Failure To Appear (USAO)                              651\n",
       "Assault With A Dangerous Weapon                       613\n",
       "Bench Warrant                                         603\n",
       "Distribution Of A Controlled Substance                597\n",
       "Destruction Of Property Less Than $1000               580\n",
       "Threats To Do Bodily Harm -misd                       579\n",
       "Poss Of A Controlled Substance -misd                  489\n",
       "Parole Violation (Warrant)                            458\n",
       "Poss W/i To Dist A Controlled Substance               413\n",
       "Assault On A Police Officer (simple Assault)          356\n",
       "Possession Of An Open Container Of Alcohol (poca)     354\n",
       "Theft Second Degree (theft From Building)             350\n",
       "Counterfeit Tags                                      324\n",
       "Name: Charge Description, dtype: int64"
      ]
     },
     "execution_count": 3,
     "metadata": {},
     "output_type": "execute_result"
    }
   ],
   "source": [
    "# Top 20 charges for each year\n",
    "raw_2019['Charge Description'].value_counts(dropna=False)[:20]"
   ]
  },
  {
   "cell_type": "code",
   "execution_count": 4,
   "metadata": {},
   "outputs": [
    {
     "data": {
      "text/plain": [
       "Simple Assault                                       5047\n",
       "No Permit                                            2283\n",
       "Unlawful Entry                                       1521\n",
       "Fugitive From Justice                                1329\n",
       "Driving Under Influence-1st Off                      1126\n",
       "Theft Second Degree (all Other Larceny)              1041\n",
       "Permit Suspended-oas                                  896\n",
       "Failure To Appear (USAO)                              877\n",
       "Assault With A Dangerous Weapon                       749\n",
       "Poss W/i To Dist A Controlled Substance               643\n",
       "Bench Warrant                                         633\n",
       "Destruction Of Property Less Than $1000               619\n",
       "Poss Of A Controlled Substance -misd                  586\n",
       "Threats To Do Bodily Harm -misd                       543\n",
       "Sexual Solicitation                                   509\n",
       "Distribution Of A Controlled Substance                424\n",
       "Possession Of An Open Container Of Alcohol (poca)     419\n",
       "Theft Second Degree (theft From Building)             405\n",
       "Parole Violation (Warrant)                            397\n",
       "Assault On A Police Officer (simple Assault)          364\n",
       "Name: Charge Description, dtype: int64"
      ]
     },
     "execution_count": 4,
     "metadata": {},
     "output_type": "execute_result"
    }
   ],
   "source": [
    "# 2018\n",
    "raw_2018['Charge Description'].value_counts(dropna=False)[:20]"
   ]
  },
  {
   "cell_type": "code",
   "execution_count": 5,
   "metadata": {},
   "outputs": [
    {
     "data": {
      "text/plain": [
       "Simple Assault                                       5379\n",
       "No Permit                                            2294\n",
       "Unlawful Entry                                       1581\n",
       "Fugitive From Justice                                1474\n",
       "Theft Second Degree (all Other Larceny)              1205\n",
       "Distribution Of A Controlled Substance               1042\n",
       "Driving Under Influence-1st Off                      1003\n",
       "Failure To Appear (USAO)                              947\n",
       "Assault With A Dangerous Weapon                       818\n",
       "Permit Suspended-oas                                  790\n",
       "Destruction Of Property Less Than $1000               678\n",
       "Poss Of A Controlled Substance -misd                  656\n",
       "Possession Of An Open Container Of Alcohol (poca)     633\n",
       "Poss W/i To Dist A Controlled Substance               574\n",
       "Threats To Do Bodily Harm -misd                       558\n",
       "Bench Warrant                                         518\n",
       "Parole Violation (Warrant)                            505\n",
       "Assault On A Police Officer (simple Assault)          408\n",
       "Theft Second Degree (theft From Building)             385\n",
       "Unauthorized Use Of A Vehicle                         357\n",
       "Name: Charge Description, dtype: int64"
      ]
     },
     "execution_count": 5,
     "metadata": {},
     "output_type": "execute_result"
    }
   ],
   "source": [
    "# 2017\n",
    "raw_2017['Charge Description'].value_counts(dropna=False)[:20]"
   ]
  },
  {
   "cell_type": "code",
   "execution_count": 6,
   "metadata": {},
   "outputs": [
    {
     "data": {
      "text/plain": [
       "Simple Assault                                       5356\n",
       "No Permit                                            1916\n",
       "Fugitive From Justice                                1317\n",
       "Unlawful Entry                                       1309\n",
       "Failure To Appear (USAO)                             1029\n",
       "Assault With A Dangerous Weapon                      1009\n",
       "Driving Under Influence-1st Off                       986\n",
       "Theft Second Degree (all Other Larceny)               982\n",
       "Distribution Of A Controlled Substance                945\n",
       "Permit Suspended-oas                                  728\n",
       "Possession Of An Open Container Of Alcohol (poca)     714\n",
       "Destruction Of Property Less Than $1000               679\n",
       "Poss Of A Controlled Substance -misd                  624\n",
       "Threats To Do Bodily Harm -misd                       550\n",
       "Assault On A Police Officer (simple Assault)          547\n",
       "Parole Violation (Warrant)                            495\n",
       "Bench Warrant                                         479\n",
       "Poss W/i To Dist A Controlled Substance               453\n",
       "Robbery                                               422\n",
       "Theft Second Degree (theft From Building)             419\n",
       "Name: Charge Description, dtype: int64"
      ]
     },
     "execution_count": 6,
     "metadata": {},
     "output_type": "execute_result"
    }
   ],
   "source": [
    "# 2016\n",
    "raw_2016['Charge Description'].value_counts(dropna=False)[:20]"
   ]
  },
  {
   "cell_type": "code",
   "execution_count": 7,
   "metadata": {},
   "outputs": [
    {
     "data": {
      "text/plain": [
       "Simple Assault                                       5334\n",
       "No Permit                                            1702\n",
       "Fugitive From Justice                                1147\n",
       "Failure To Appear (OAG)                              1138\n",
       "Unlawful Entry                                       1009\n",
       "Theft Second Degree                                   727\n",
       "Driving Under Influence-1st Off                       695\n",
       "Possession Of An Open Container Of Alcohol            609\n",
       "Soliciting Prostitution                               452\n",
       "Assault With A Dangerous Weapon                       440\n",
       "Destruction Of Property - Misd                        391\n",
       "Theft Second Degree (all Other Larceny)               364\n",
       "Operating After Suspension                            357\n",
       "Failure To Appear (USAO)                              331\n",
       "Apo (misd)                                            301\n",
       "Adw Knife Or Cutting Instrument                       298\n",
       "Unauthorized Use Of A Vehicle                         294\n",
       "Distribution Of A Controlled Substance                274\n",
       "Shoplifting                                           273\n",
       "Possession Of An Open Container Of Alcohol (poca)     268\n",
       "Name: Charge Description, dtype: int64"
      ]
     },
     "execution_count": 7,
     "metadata": {},
     "output_type": "execute_result"
    }
   ],
   "source": [
    "# 2015\n",
    "raw_2015['Charge Description'].value_counts(dropna=False)[:20]"
   ]
  },
  {
   "cell_type": "code",
   "execution_count": 8,
   "metadata": {},
   "outputs": [
    {
     "data": {
      "text/plain": [
       "Simple Assault                                5346\n",
       "No Permit                                     2200\n",
       "Failure To Appear (OAG)                       1745\n",
       "Fugitive From Justice                         1184\n",
       "Ucsa Possession Marijuana                     1142\n",
       "Possession Of An Open Container Of Alcohol    1089\n",
       "Theft Second Degree                           1043\n",
       "Unlawful Entry                                1004\n",
       "Driving Under Influence-1st Off                789\n",
       "Operating After Suspension                     759\n",
       "Destruction Of Property - Misd                 578\n",
       "Apo (misd)                                     502\n",
       "Adw Knife Or Cutting Instrument                495\n",
       "Parole Violation                               479\n",
       "Ucsa Possession Cocaine/crack Cocaine          445\n",
       "Soliciting Prostitution                        433\n",
       "Adw Other Dangerous Weapon                     426\n",
       "Theft 2 (theft F/building)                     388\n",
       "Unauthorized Use Of A Vehicle                  346\n",
       "Ucsa Pwid Cocaine/crack Cocaine                342\n",
       "Name: Charge Description, dtype: int64"
      ]
     },
     "execution_count": 8,
     "metadata": {},
     "output_type": "execute_result"
    }
   ],
   "source": [
    "# 2014\n",
    "raw_2014['Charge Description'].value_counts(dropna=False)[:20] \n",
    "\n",
    "## Note use of the string 'Apo (misd)' as opposed to 'Assault on a Police Officer'"
   ]
  },
  {
   "cell_type": "code",
   "execution_count": 9,
   "metadata": {},
   "outputs": [
    {
     "data": {
      "text/plain": [
       "Simple Assault                                4896\n",
       "No Permit                                     2081\n",
       "Fugitive From Justice                         1137\n",
       "Possession Of An Open Container Of Alcohol    1119\n",
       "Failure To Appear (OAG)                       1111\n",
       "Failure To Appear (bra)                        979\n",
       "Unlawful Entry                                 869\n",
       "Theft Second Degree                            832\n",
       "Ucsa Possession Marijuana                      796\n",
       "Solicting Prostitution                         774\n",
       "Ucsa Poss Marijuana                            744\n",
       "Parole Violation                               735\n",
       "Driving Under Influence-1st Off                702\n",
       "Operating After Suspension                     679\n",
       "Adw Knife Or Cutting Instrument                511\n",
       "Assault On A Police Officer [misd]             490\n",
       "Destruction Of Property - Misd                 485\n",
       "Ucsa Pwid Marijuana                            452\n",
       "Adw Other Dangerous Weapon                     400\n",
       "Ucsa Pwid Cocaine/crack Cocaine                390\n",
       "Name: Charge Description, dtype: int64"
      ]
     },
     "execution_count": 9,
     "metadata": {},
     "output_type": "execute_result"
    }
   ],
   "source": [
    "# 2013\n",
    "raw_2013['Charge Description'].value_counts(dropna=False)[:20]"
   ]
  },
  {
   "cell_type": "code",
   "execution_count": 10,
   "metadata": {},
   "outputs": [],
   "source": [
    "# Combine into one dataset\n",
    "arrest_dataframes = [raw_2013, raw_2014, raw_2015, raw_2016, raw_2017, raw_2018, raw_2019]\n",
    "raw_all = pd.concat(arrest_dataframes, axis=0, ignore_index=True, )\n",
    "\n",
    "# Create datetime object\n",
    "raw_all['arrest_date'] = pd.to_datetime(raw_all['Arrest Date'])\n",
    "\n",
    "# Fill na in charge descriptions\n",
    "raw_all['Charge Description'].fillna('', inplace=True)"
   ]
  },
  {
   "cell_type": "code",
   "execution_count": 11,
   "metadata": {},
   "outputs": [
    {
     "data": {
      "text/plain": [
       "Text(0.5, 1.0, 'Total arrests per month')"
      ]
     },
     "execution_count": 11,
     "metadata": {},
     "output_type": "execute_result"
    },
    {
     "data": {
      "image/png": "[encoded data removed]",
      "text/plain": [
       "<Figure size 432x288 with 1 Axes>"
      ]
     },
     "metadata": {
      "needs_background": "light"
     },
     "output_type": "display_data"
    }
   ],
   "source": [
    "# Total arrests per month\n",
    "raw_all['arrest'] = 1\n",
    "raw_all.groupby(pd.Grouper(freq='M', key='arrest_date')).arrest.sum().plot()\n",
    "\n",
    "plt.xlabel('')\n",
    "plt.title('Total arrests per month')"
   ]
  },
  {
   "cell_type": "code",
   "execution_count": 12,
   "metadata": {},
   "outputs": [],
   "source": [
    "# Create APO dummy\n",
    "raw_all['is_apo'] = raw_all['Charge Description'].str.lower().str.startswith('assault on a pol')\n",
    "\n",
    "# Update APO dummy to capture use of 'APO' string\n",
    "raw_all.loc[raw_all['Charge Description'].str.lower().str.startswith('apo'), 'is_apo'] = True\n",
    "\n",
    "# Resisting Arrest dummy\n",
    "raw_all['is_resisting'] = raw_all['Charge Description'].str.lower().str.contains('resisting')\n",
    "\n",
    "# APO or Resisting\n",
    "raw_all['is_apo_resist'] = raw_all['is_resisting'] == True\n",
    "raw_all.loc[raw_all['is_apo'] == True, 'is_apo_resist'] = True"
   ]
  },
  {
   "cell_type": "markdown",
   "metadata": {},
   "source": [
    "#### APO arrests go down after NEAR Act implementation, but gradually\n",
    "The NEAR Act changed the definition of Assault on a Police Officer. It was signed by the Mayor on March 26, 2016 and became effective on June 30, 2016 (following Congressional review). Source: https://lims.dccouncil.us/Legislation/B21-0360.\n",
    "\n",
    "The number of APO arrests per month appear to go down--gradually--after the NEAR Act was enacted. Actually, the NEAR Act splits out APO from Resisting Arrest: https://code.dccouncil.us/dc/council/laws/21-125.html#%C2%A7206. See Section D."
   ]
  },
  {
   "cell_type": "code",
   "execution_count": 14,
   "metadata": {},
   "outputs": [
    {
     "data": {
      "text/plain": [
       "Text(0.54, 0.7, 'NEAR Act enacted')"
      ]
     },
     "execution_count": 14,
     "metadata": {},
     "output_type": "execute_result"
    },
    {
     "data": {
      "image/png": "[encoded data removed]",
      "text/plain": [
       "<Figure size 432x288 with 1 Axes>"
      ]
     },
     "metadata": {
      "needs_background": "light"
     },
     "output_type": "display_data"
    }
   ],
   "source": [
    "# APO and resisting arrest plots\n",
    "\n",
    "## APO\n",
    "raw_all.groupby(pd.Grouper(freq='M', key='arrest_date')).is_apo.sum().plot(label='APO', legend=True)\n",
    "\n",
    "## Resisting arrest\n",
    "raw_all.groupby(pd.Grouper(freq='M', key='arrest_date')).is_resisting.sum().plot(legend=True, label='Resisting')\n",
    "\n",
    "\n",
    "plt.xlabel('')\n",
    "plt.xlabel('')\n",
    "plt.title('Resisting Arrest and APO arrests per month')\n",
    "\n",
    "near_act = '06-30-2016'\n",
    "plt.axvline(near_act, color='k', linestyle='--', alpha=0.8)\n",
    "plt.figtext(0.54, .7, 'NEAR Act enacted', alpha=0.8)"
   ]
  },
  {
   "cell_type": "markdown",
   "metadata": {},
   "source": [
    "#### Marijuana arrests drop off sharply after decriminalization\n",
    "Marijuana decriminalization became effective in July 2014"
   ]
  },
  {
   "cell_type": "code",
   "execution_count": 15,
   "metadata": {},
   "outputs": [
    {
     "data": {
      "text/plain": [
       "Text(0.35, 0.7, 'Marijuana decriminalized')"
      ]
     },
     "execution_count": 15,
     "metadata": {},
     "output_type": "execute_result"
    },
    {
     "data": {
      "image/png": "[encoded data removed]",
      "text/plain": [
       "<Figure size 432x288 with 1 Axes>"
      ]
     },
     "metadata": {
      "needs_background": "light"
     },
     "output_type": "display_data"
    }
   ],
   "source": [
    "# What about marijuana arrests?\n",
    "raw_all['is_marijuana'] = raw_all['Charge Description'].str.lower().str.contains('marij')\n",
    "raw_all.groupby(pd.Grouper(freq='M', key='arrest_date')).is_marijuana.sum().plot(label='Marijuana')\n",
    "plt.xlabel('')\n",
    "plt.title('Marijuana arrests per month')\n",
    "\n",
    "plt.axvline('07-01-2014', color='k', linestyle='--', alpha=0.8)\n",
    "\n",
    "plt.figtext(0.35, .7, 'Marijuana decriminalized', alpha=0.8)"
   ]
  },
  {
   "cell_type": "markdown",
   "metadata": {},
   "source": [
    "#### Failure to Appear charges are steadily decreasing\n",
    "FTA means not showing up to court."
   ]
  },
  {
   "cell_type": "code",
   "execution_count": 16,
   "metadata": {},
   "outputs": [
    {
     "data": {
      "text/plain": [
       "Text(0.5, 1.0, 'Failure to Appear arrests per month')"
      ]
     },
     "execution_count": 16,
     "metadata": {},
     "output_type": "execute_result"
    },
    {
     "data": {
      "image/png": "[encoded data removed]",
      "text/plain": [
       "<Figure size 432x288 with 1 Axes>"
      ]
     },
     "metadata": {
      "needs_background": "light"
     },
     "output_type": "display_data"
    }
   ],
   "source": [
    "# Failure to appear\n",
    "raw_all['is_fta'] = raw_all['Charge Description'].str.lower().str.contains('failure to appear')\n",
    "raw_all.groupby(pd.Grouper(freq='M', key='arrest_date')).is_fta.sum().plot()\n",
    "plt.xlabel('')\n",
    "plt.title('Failure to Appear arrests per month')"
   ]
  },
  {
   "cell_type": "markdown",
   "metadata": {},
   "source": [
    "#### Ethnicity"
   ]
  },
  {
   "cell_type": "markdown",
   "metadata": {},
   "source": [
    "86 percent of people arrested are black"
   ]
  },
  {
   "cell_type": "code",
   "execution_count": 17,
   "metadata": {},
   "outputs": [
    {
     "data": {
      "text/plain": [
       "BLACK      0.859946\n",
       "WHITE      0.089879\n",
       "UNK        0.036381\n",
       "UNKNOWN    0.007630\n",
       "ASIAN      0.006164\n",
       "Name: Defendant Race, dtype: float64"
      ]
     },
     "execution_count": 17,
     "metadata": {},
     "output_type": "execute_result"
    }
   ],
   "source": [
    "# Ethnicity across all seven years\n",
    "raw_all['Defendant Race'].value_counts(dropna=False, normalize=True)"
   ]
  },
  {
   "cell_type": "code",
   "execution_count": 18,
   "metadata": {},
   "outputs": [
    {
     "data": {
      "text/plain": [
       "BLACK      181225\n",
       "WHITE       18941\n",
       "UNK          7667\n",
       "UNKNOWN      1608\n",
       "ASIAN        1299\n",
       "Name: Defendant Race, dtype: int64"
      ]
     },
     "execution_count": 18,
     "metadata": {},
     "output_type": "execute_result"
    }
   ],
   "source": [
    "# Ethnicity across all seven years (counts)\n",
    "raw_all['Defendant Race'].value_counts(dropna=False)"
   ]
  },
  {
   "cell_type": "code",
   "execution_count": 19,
   "metadata": {},
   "outputs": [],
   "source": [
    "# Create list of unique charge names for join\n",
    "charges = pd.DataFrame(raw_all['Charge Description'].unique().copy())\n",
    "\n",
    "# Rename column\n",
    "charges.rename(columns={0: 'Charge Description'}, inplace=True)\n",
    "\n",
    "# Count number of arrests of black people\n",
    "black_count = pd.DataFrame(raw_all.loc[raw_all['Defendant Race'] == 'BLACK'].groupby(\n",
    "    ['Charge Description', 'Defendant Race']).size().reset_index())\n",
    "\n",
    "# Rename column\n",
    "black_count.rename(columns={0: 'black_arrests'}, inplace=True)\n",
    "\n",
    "# Drop unnecessary column\n",
    "black_count.drop('Defendant Race', 1, inplace=True)\n",
    "\n",
    "# Merge counts back to charge list\n",
    "charges = pd.merge(charges, black_count, on='Charge Description', how='inner')\n",
    "\n",
    "# Count total number of arrests\n",
    "total_count = pd.DataFrame(raw_all['Charge Description'].value_counts(dropna=True).reset_index())\n",
    "total_count.rename(columns={'index': 'Charge Description', 'Charge Description': 'total_arrests'}, inplace=True)\n",
    "\n",
    "# Merge back to charge list\n",
    "charges = pd.merge(charges, total_count, on='Charge Description', how='inner')\n",
    "\n",
    "# Calcualte percentage black\n",
    "charges['percent_black'] = charges['black_arrests'] / charges['total_arrests']"
   ]
  },
  {
   "cell_type": "code",
   "execution_count": 20,
   "metadata": {},
   "outputs": [
    {
     "data": {
      "text/html": [
       "<div>\n",
       "<style scoped>\n",
       "    .dataframe tbody tr th:only-of-type {\n",
       "        vertical-align: middle;\n",
       "    }\n",
       "\n",
       "    .dataframe tbody tr th {\n",
       "        vertical-align: top;\n",
       "    }\n",
       "\n",
       "    .dataframe thead th {\n",
       "        text-align: right;\n",
       "    }\n",
       "</style>\n",
       "<table border=\"1\" class=\"dataframe\">\n",
       "  <thead>\n",
       "    <tr style=\"text-align: right;\">\n",
       "      <th></th>\n",
       "      <th>Charge Description</th>\n",
       "      <th>black_arrests</th>\n",
       "      <th>total_arrests</th>\n",
       "      <th>percent_black</th>\n",
       "    </tr>\n",
       "  </thead>\n",
       "  <tbody>\n",
       "    <tr>\n",
       "      <th>39</th>\n",
       "      <td>Parole Violation</td>\n",
       "      <td>1435</td>\n",
       "      <td>1458</td>\n",
       "      <td>0.984225</td>\n",
       "    </tr>\n",
       "    <tr>\n",
       "      <th>671</th>\n",
       "      <td>Parole Violation (Warrant)</td>\n",
       "      <td>2000</td>\n",
       "      <td>2036</td>\n",
       "      <td>0.982318</td>\n",
       "    </tr>\n",
       "    <tr>\n",
       "      <th>194</th>\n",
       "      <td>Distribution Of A Controlled Substance</td>\n",
       "      <td>3214</td>\n",
       "      <td>3286</td>\n",
       "      <td>0.978089</td>\n",
       "    </tr>\n",
       "    <tr>\n",
       "      <th>254</th>\n",
       "      <td>Distribution Of Marijuana-misd</td>\n",
       "      <td>973</td>\n",
       "      <td>998</td>\n",
       "      <td>0.974950</td>\n",
       "    </tr>\n",
       "    <tr>\n",
       "      <th>93</th>\n",
       "      <td>Counterfeit Tags</td>\n",
       "      <td>699</td>\n",
       "      <td>722</td>\n",
       "      <td>0.968144</td>\n",
       "    </tr>\n",
       "    <tr>\n",
       "      <th>674</th>\n",
       "      <td>Loaning Registration, Misuse Of Temporary Tags</td>\n",
       "      <td>1055</td>\n",
       "      <td>1092</td>\n",
       "      <td>0.966117</td>\n",
       "    </tr>\n",
       "    <tr>\n",
       "      <th>104</th>\n",
       "      <td>Operating After Revocation</td>\n",
       "      <td>543</td>\n",
       "      <td>569</td>\n",
       "      <td>0.954306</td>\n",
       "    </tr>\n",
       "    <tr>\n",
       "      <th>628</th>\n",
       "      <td>Carrying a Pistol Without a License (Outside H...</td>\n",
       "      <td>1169</td>\n",
       "      <td>1226</td>\n",
       "      <td>0.953507</td>\n",
       "    </tr>\n",
       "    <tr>\n",
       "      <th>217</th>\n",
       "      <td>Permit Revoked-oar</td>\n",
       "      <td>1065</td>\n",
       "      <td>1117</td>\n",
       "      <td>0.953447</td>\n",
       "    </tr>\n",
       "    <tr>\n",
       "      <th>15</th>\n",
       "      <td>Probation Violation</td>\n",
       "      <td>682</td>\n",
       "      <td>720</td>\n",
       "      <td>0.947222</td>\n",
       "    </tr>\n",
       "    <tr>\n",
       "      <th>63</th>\n",
       "      <td>Ucsa Pwid Cocaine/crack Cocaine</td>\n",
       "      <td>812</td>\n",
       "      <td>858</td>\n",
       "      <td>0.946387</td>\n",
       "    </tr>\n",
       "    <tr>\n",
       "      <th>53</th>\n",
       "      <td>Permit Suspended-oas</td>\n",
       "      <td>2686</td>\n",
       "      <td>2848</td>\n",
       "      <td>0.943118</td>\n",
       "    </tr>\n",
       "    <tr>\n",
       "      <th>10</th>\n",
       "      <td>Ucsa Pwid Marijuana</td>\n",
       "      <td>784</td>\n",
       "      <td>833</td>\n",
       "      <td>0.941176</td>\n",
       "    </tr>\n",
       "    <tr>\n",
       "      <th>673</th>\n",
       "      <td>Probation Violation (Warrant)</td>\n",
       "      <td>1045</td>\n",
       "      <td>1118</td>\n",
       "      <td>0.934705</td>\n",
       "    </tr>\n",
       "    <tr>\n",
       "      <th>94</th>\n",
       "      <td>Receiving Stolen Property</td>\n",
       "      <td>679</td>\n",
       "      <td>727</td>\n",
       "      <td>0.933975</td>\n",
       "    </tr>\n",
       "    <tr>\n",
       "      <th>26</th>\n",
       "      <td>Unauthorized Use Of A Vehicle</td>\n",
       "      <td>2240</td>\n",
       "      <td>2404</td>\n",
       "      <td>0.931780</td>\n",
       "    </tr>\n",
       "    <tr>\n",
       "      <th>59</th>\n",
       "      <td>Operating After Suspension</td>\n",
       "      <td>1671</td>\n",
       "      <td>1795</td>\n",
       "      <td>0.930919</td>\n",
       "    </tr>\n",
       "    <tr>\n",
       "      <th>112</th>\n",
       "      <td>Robbery</td>\n",
       "      <td>1708</td>\n",
       "      <td>1835</td>\n",
       "      <td>0.930790</td>\n",
       "    </tr>\n",
       "    <tr>\n",
       "      <th>616</th>\n",
       "      <td>Threats To Do Bodily Harm -misd</td>\n",
       "      <td>2209</td>\n",
       "      <td>2402</td>\n",
       "      <td>0.919650</td>\n",
       "    </tr>\n",
       "    <tr>\n",
       "      <th>175</th>\n",
       "      <td>Poss W/i To Dist A Controlled Substance</td>\n",
       "      <td>2070</td>\n",
       "      <td>2257</td>\n",
       "      <td>0.917147</td>\n",
       "    </tr>\n",
       "  </tbody>\n",
       "</table>\n",
       "</div>"
      ],
      "text/plain": [
       "                                    Charge Description  black_arrests  \\\n",
       "39                                    Parole Violation           1435   \n",
       "671                         Parole Violation (Warrant)           2000   \n",
       "194             Distribution Of A Controlled Substance           3214   \n",
       "254                     Distribution Of Marijuana-misd            973   \n",
       "93                                    Counterfeit Tags            699   \n",
       "674     Loaning Registration, Misuse Of Temporary Tags           1055   \n",
       "104                         Operating After Revocation            543   \n",
       "628  Carrying a Pistol Without a License (Outside H...           1169   \n",
       "217                                 Permit Revoked-oar           1065   \n",
       "15                                 Probation Violation            682   \n",
       "63                     Ucsa Pwid Cocaine/crack Cocaine            812   \n",
       "53                                Permit Suspended-oas           2686   \n",
       "10                                 Ucsa Pwid Marijuana            784   \n",
       "673                      Probation Violation (Warrant)           1045   \n",
       "94                           Receiving Stolen Property            679   \n",
       "26                       Unauthorized Use Of A Vehicle           2240   \n",
       "59                          Operating After Suspension           1671   \n",
       "112                                            Robbery           1708   \n",
       "616                    Threats To Do Bodily Harm -misd           2209   \n",
       "175            Poss W/i To Dist A Controlled Substance           2070   \n",
       "\n",
       "     total_arrests  percent_black  \n",
       "39            1458       0.984225  \n",
       "671           2036       0.982318  \n",
       "194           3286       0.978089  \n",
       "254            998       0.974950  \n",
       "93             722       0.968144  \n",
       "674           1092       0.966117  \n",
       "104            569       0.954306  \n",
       "628           1226       0.953507  \n",
       "217           1117       0.953447  \n",
       "15             720       0.947222  \n",
       "63             858       0.946387  \n",
       "53            2848       0.943118  \n",
       "10             833       0.941176  \n",
       "673           1118       0.934705  \n",
       "94             727       0.933975  \n",
       "26            2404       0.931780  \n",
       "59            1795       0.930919  \n",
       "112           1835       0.930790  \n",
       "616           2402       0.919650  \n",
       "175           2257       0.917147  "
      ]
     },
     "execution_count": 20,
     "metadata": {},
     "output_type": "execute_result"
    }
   ],
   "source": [
    "# Highest percentage black arrests with over 500 arrests (to exclude outliers)\n",
    "charges.loc[charges['total_arrests'] > 500].sort_values(by='percent_black', ascending=False)[:20]"
   ]
  },
  {
   "cell_type": "code",
   "execution_count": 21,
   "metadata": {},
   "outputs": [
    {
     "data": {
      "text/html": [
       "<div>\n",
       "<style scoped>\n",
       "    .dataframe tbody tr th:only-of-type {\n",
       "        vertical-align: middle;\n",
       "    }\n",
       "\n",
       "    .dataframe tbody tr th {\n",
       "        vertical-align: top;\n",
       "    }\n",
       "\n",
       "    .dataframe thead th {\n",
       "        text-align: right;\n",
       "    }\n",
       "</style>\n",
       "<table border=\"1\" class=\"dataframe\">\n",
       "  <thead>\n",
       "    <tr style=\"text-align: right;\">\n",
       "      <th></th>\n",
       "      <th>Charge Description</th>\n",
       "      <th>black_arrests</th>\n",
       "      <th>total_arrests</th>\n",
       "      <th>percent_black</th>\n",
       "    </tr>\n",
       "  </thead>\n",
       "  <tbody>\n",
       "    <tr>\n",
       "      <th>853</th>\n",
       "      <td>Riot Act -felony</td>\n",
       "      <td>8</td>\n",
       "      <td>229</td>\n",
       "      <td>0.034934</td>\n",
       "    </tr>\n",
       "    <tr>\n",
       "      <th>171</th>\n",
       "      <td>Misrepresent Age To Enter Abc Establishment</td>\n",
       "      <td>24</td>\n",
       "      <td>324</td>\n",
       "      <td>0.074074</td>\n",
       "    </tr>\n",
       "    <tr>\n",
       "      <th>115</th>\n",
       "      <td>Blocking Passage</td>\n",
       "      <td>167</td>\n",
       "      <td>270</td>\n",
       "      <td>0.618519</td>\n",
       "    </tr>\n",
       "    <tr>\n",
       "      <th>30</th>\n",
       "      <td>Dui - Refusing Test</td>\n",
       "      <td>455</td>\n",
       "      <td>694</td>\n",
       "      <td>0.655620</td>\n",
       "    </tr>\n",
       "    <tr>\n",
       "      <th>2</th>\n",
       "      <td>Driving While Intoxicated - 1st Off</td>\n",
       "      <td>262</td>\n",
       "      <td>392</td>\n",
       "      <td>0.668367</td>\n",
       "    </tr>\n",
       "    <tr>\n",
       "      <th>640</th>\n",
       "      <td>Sex Abuse- Misd</td>\n",
       "      <td>269</td>\n",
       "      <td>386</td>\n",
       "      <td>0.696891</td>\n",
       "    </tr>\n",
       "    <tr>\n",
       "      <th>3</th>\n",
       "      <td>Driving Under Influence-1st Off</td>\n",
       "      <td>4544</td>\n",
       "      <td>6243</td>\n",
       "      <td>0.727855</td>\n",
       "    </tr>\n",
       "    <tr>\n",
       "      <th>632</th>\n",
       "      <td>Sexual Solicitation</td>\n",
       "      <td>1707</td>\n",
       "      <td>2337</td>\n",
       "      <td>0.730424</td>\n",
       "    </tr>\n",
       "    <tr>\n",
       "      <th>400</th>\n",
       "      <td>Disorderly Conduct - Urinating Or Defecating I...</td>\n",
       "      <td>314</td>\n",
       "      <td>422</td>\n",
       "      <td>0.744076</td>\n",
       "    </tr>\n",
       "    <tr>\n",
       "      <th>1</th>\n",
       "      <td>Urinating Or Defecating In Public</td>\n",
       "      <td>449</td>\n",
       "      <td>602</td>\n",
       "      <td>0.745847</td>\n",
       "    </tr>\n",
       "    <tr>\n",
       "      <th>540</th>\n",
       "      <td>Soliciting Prostitution</td>\n",
       "      <td>665</td>\n",
       "      <td>885</td>\n",
       "      <td>0.751412</td>\n",
       "    </tr>\n",
       "    <tr>\n",
       "      <th>60</th>\n",
       "      <td>Assault With Significant Bodily Injury</td>\n",
       "      <td>508</td>\n",
       "      <td>672</td>\n",
       "      <td>0.755952</td>\n",
       "    </tr>\n",
       "    <tr>\n",
       "      <th>54</th>\n",
       "      <td>Speed (30 Or Over)</td>\n",
       "      <td>443</td>\n",
       "      <td>585</td>\n",
       "      <td>0.757265</td>\n",
       "    </tr>\n",
       "    <tr>\n",
       "      <th>56</th>\n",
       "      <td>Theft 1st Degree</td>\n",
       "      <td>220</td>\n",
       "      <td>290</td>\n",
       "      <td>0.758621</td>\n",
       "    </tr>\n",
       "    <tr>\n",
       "      <th>81</th>\n",
       "      <td>Leaving After Colliding - Property Damage</td>\n",
       "      <td>249</td>\n",
       "      <td>323</td>\n",
       "      <td>0.770898</td>\n",
       "    </tr>\n",
       "    <tr>\n",
       "      <th>604</th>\n",
       "      <td>Possession Of An Open Container Of Alcohol (poca)</td>\n",
       "      <td>1848</td>\n",
       "      <td>2388</td>\n",
       "      <td>0.773869</td>\n",
       "    </tr>\n",
       "    <tr>\n",
       "      <th>406</th>\n",
       "      <td>Ucsa Possession Heroin</td>\n",
       "      <td>357</td>\n",
       "      <td>459</td>\n",
       "      <td>0.777778</td>\n",
       "    </tr>\n",
       "    <tr>\n",
       "      <th>8</th>\n",
       "      <td>Drinking In Public</td>\n",
       "      <td>538</td>\n",
       "      <td>689</td>\n",
       "      <td>0.780842</td>\n",
       "    </tr>\n",
       "    <tr>\n",
       "      <th>633</th>\n",
       "      <td>Destruction Of Property $1000 Or More</td>\n",
       "      <td>238</td>\n",
       "      <td>303</td>\n",
       "      <td>0.785479</td>\n",
       "    </tr>\n",
       "    <tr>\n",
       "      <th>121</th>\n",
       "      <td>Other Crimes</td>\n",
       "      <td>311</td>\n",
       "      <td>395</td>\n",
       "      <td>0.787342</td>\n",
       "    </tr>\n",
       "  </tbody>\n",
       "</table>\n",
       "</div>"
      ],
      "text/plain": [
       "                                    Charge Description  black_arrests  \\\n",
       "853                                   Riot Act -felony              8   \n",
       "171        Misrepresent Age To Enter Abc Establishment             24   \n",
       "115                                   Blocking Passage            167   \n",
       "30                                 Dui - Refusing Test            455   \n",
       "2                  Driving While Intoxicated - 1st Off            262   \n",
       "640                                    Sex Abuse- Misd            269   \n",
       "3                      Driving Under Influence-1st Off           4544   \n",
       "632                                Sexual Solicitation           1707   \n",
       "400  Disorderly Conduct - Urinating Or Defecating I...            314   \n",
       "1                    Urinating Or Defecating In Public            449   \n",
       "540                            Soliciting Prostitution            665   \n",
       "60              Assault With Significant Bodily Injury            508   \n",
       "54                                  Speed (30 Or Over)            443   \n",
       "56                                    Theft 1st Degree            220   \n",
       "81           Leaving After Colliding - Property Damage            249   \n",
       "604  Possession Of An Open Container Of Alcohol (poca)           1848   \n",
       "406                             Ucsa Possession Heroin            357   \n",
       "8                                   Drinking In Public            538   \n",
       "633              Destruction Of Property $1000 Or More            238   \n",
       "121                                       Other Crimes            311   \n",
       "\n",
       "     total_arrests  percent_black  \n",
       "853            229       0.034934  \n",
       "171            324       0.074074  \n",
       "115            270       0.618519  \n",
       "30             694       0.655620  \n",
       "2              392       0.668367  \n",
       "640            386       0.696891  \n",
       "3             6243       0.727855  \n",
       "632           2337       0.730424  \n",
       "400            422       0.744076  \n",
       "1              602       0.745847  \n",
       "540            885       0.751412  \n",
       "60             672       0.755952  \n",
       "54             585       0.757265  \n",
       "56             290       0.758621  \n",
       "81             323       0.770898  \n",
       "604           2388       0.773869  \n",
       "406            459       0.777778  \n",
       "8              689       0.780842  \n",
       "633            303       0.785479  \n",
       "121            395       0.787342  "
      ]
     },
     "execution_count": 21,
     "metadata": {},
     "output_type": "execute_result"
    }
   ],
   "source": [
    "# Lowest percentage black arrests with at least 200 arrests\n",
    "charges.loc[charges['total_arrests'] > 200].sort_values(by='percent_black', ascending=True)[:20]"
   ]
  },
  {
   "cell_type": "markdown",
   "metadata": {},
   "source": [
    "#### Most common arrests overall"
   ]
  },
  {
   "cell_type": "code",
   "execution_count": 22,
   "metadata": {},
   "outputs": [
    {
     "data": {
      "text/html": [
       "<div>\n",
       "<style scoped>\n",
       "    .dataframe tbody tr th:only-of-type {\n",
       "        vertical-align: middle;\n",
       "    }\n",
       "\n",
       "    .dataframe tbody tr th {\n",
       "        vertical-align: top;\n",
       "    }\n",
       "\n",
       "    .dataframe thead th {\n",
       "        text-align: right;\n",
       "    }\n",
       "</style>\n",
       "<table border=\"1\" class=\"dataframe\">\n",
       "  <thead>\n",
       "    <tr style=\"text-align: right;\">\n",
       "      <th></th>\n",
       "      <th>Charge Description</th>\n",
       "      <th>black_arrests</th>\n",
       "      <th>total_arrests</th>\n",
       "      <th>percent_black</th>\n",
       "    </tr>\n",
       "  </thead>\n",
       "  <tbody>\n",
       "    <tr>\n",
       "      <th>5</th>\n",
       "      <td>Simple Assault</td>\n",
       "      <td>30738</td>\n",
       "      <td>36320</td>\n",
       "      <td>0.846311</td>\n",
       "    </tr>\n",
       "    <tr>\n",
       "      <th>4</th>\n",
       "      <td>No Permit</td>\n",
       "      <td>11963</td>\n",
       "      <td>14897</td>\n",
       "      <td>0.803048</td>\n",
       "    </tr>\n",
       "    <tr>\n",
       "      <th>19</th>\n",
       "      <td>Unlawful Entry</td>\n",
       "      <td>7419</td>\n",
       "      <td>8726</td>\n",
       "      <td>0.850218</td>\n",
       "    </tr>\n",
       "    <tr>\n",
       "      <th>35</th>\n",
       "      <td>Fugitive From Justice</td>\n",
       "      <td>7815</td>\n",
       "      <td>8719</td>\n",
       "      <td>0.896318</td>\n",
       "    </tr>\n",
       "    <tr>\n",
       "      <th>3</th>\n",
       "      <td>Driving Under Influence-1st Off</td>\n",
       "      <td>4544</td>\n",
       "      <td>6243</td>\n",
       "      <td>0.727855</td>\n",
       "    </tr>\n",
       "    <tr>\n",
       "      <th>52</th>\n",
       "      <td>Failure To Appear (OAG)</td>\n",
       "      <td>4764</td>\n",
       "      <td>5214</td>\n",
       "      <td>0.913694</td>\n",
       "    </tr>\n",
       "    <tr>\n",
       "      <th>606</th>\n",
       "      <td>Theft Second Degree (all Other Larceny)</td>\n",
       "      <td>3902</td>\n",
       "      <td>4563</td>\n",
       "      <td>0.855139</td>\n",
       "    </tr>\n",
       "    <tr>\n",
       "      <th>83</th>\n",
       "      <td>Assault With A Dangerous Weapon</td>\n",
       "      <td>3480</td>\n",
       "      <td>3878</td>\n",
       "      <td>0.897370</td>\n",
       "    </tr>\n",
       "    <tr>\n",
       "      <th>376</th>\n",
       "      <td>Failure To Appear (USAO)</td>\n",
       "      <td>3455</td>\n",
       "      <td>3836</td>\n",
       "      <td>0.900678</td>\n",
       "    </tr>\n",
       "    <tr>\n",
       "      <th>194</th>\n",
       "      <td>Distribution Of A Controlled Substance</td>\n",
       "      <td>3214</td>\n",
       "      <td>3286</td>\n",
       "      <td>0.978089</td>\n",
       "    </tr>\n",
       "    <tr>\n",
       "      <th>53</th>\n",
       "      <td>Permit Suspended-oas</td>\n",
       "      <td>2686</td>\n",
       "      <td>2848</td>\n",
       "      <td>0.943118</td>\n",
       "    </tr>\n",
       "    <tr>\n",
       "      <th>13</th>\n",
       "      <td>Possession Of An Open Container Of Alcohol</td>\n",
       "      <td>2366</td>\n",
       "      <td>2817</td>\n",
       "      <td>0.839901</td>\n",
       "    </tr>\n",
       "    <tr>\n",
       "      <th>614</th>\n",
       "      <td>Destruction Of Property Less Than $1000</td>\n",
       "      <td>2422</td>\n",
       "      <td>2781</td>\n",
       "      <td>0.870910</td>\n",
       "    </tr>\n",
       "    <tr>\n",
       "      <th>89</th>\n",
       "      <td>Poss Of A Controlled Substance -misd</td>\n",
       "      <td>2334</td>\n",
       "      <td>2660</td>\n",
       "      <td>0.877444</td>\n",
       "    </tr>\n",
       "    <tr>\n",
       "      <th>17</th>\n",
       "      <td>Theft Second Degree</td>\n",
       "      <td>2238</td>\n",
       "      <td>2606</td>\n",
       "      <td>0.858787</td>\n",
       "    </tr>\n",
       "    <tr>\n",
       "      <th>48</th>\n",
       "      <td>Bench Warrant</td>\n",
       "      <td>2335</td>\n",
       "      <td>2596</td>\n",
       "      <td>0.899461</td>\n",
       "    </tr>\n",
       "    <tr>\n",
       "      <th>26</th>\n",
       "      <td>Unauthorized Use Of A Vehicle</td>\n",
       "      <td>2240</td>\n",
       "      <td>2404</td>\n",
       "      <td>0.931780</td>\n",
       "    </tr>\n",
       "    <tr>\n",
       "      <th>616</th>\n",
       "      <td>Threats To Do Bodily Harm -misd</td>\n",
       "      <td>2209</td>\n",
       "      <td>2402</td>\n",
       "      <td>0.919650</td>\n",
       "    </tr>\n",
       "    <tr>\n",
       "      <th>604</th>\n",
       "      <td>Possession Of An Open Container Of Alcohol (poca)</td>\n",
       "      <td>1848</td>\n",
       "      <td>2388</td>\n",
       "      <td>0.773869</td>\n",
       "    </tr>\n",
       "    <tr>\n",
       "      <th>632</th>\n",
       "      <td>Sexual Solicitation</td>\n",
       "      <td>1707</td>\n",
       "      <td>2337</td>\n",
       "      <td>0.730424</td>\n",
       "    </tr>\n",
       "  </tbody>\n",
       "</table>\n",
       "</div>"
      ],
      "text/plain": [
       "                                    Charge Description  black_arrests  \\\n",
       "5                                       Simple Assault          30738   \n",
       "4                                            No Permit          11963   \n",
       "19                                      Unlawful Entry           7419   \n",
       "35                               Fugitive From Justice           7815   \n",
       "3                      Driving Under Influence-1st Off           4544   \n",
       "52                             Failure To Appear (OAG)           4764   \n",
       "606            Theft Second Degree (all Other Larceny)           3902   \n",
       "83                     Assault With A Dangerous Weapon           3480   \n",
       "376                           Failure To Appear (USAO)           3455   \n",
       "194             Distribution Of A Controlled Substance           3214   \n",
       "53                                Permit Suspended-oas           2686   \n",
       "13          Possession Of An Open Container Of Alcohol           2366   \n",
       "614            Destruction Of Property Less Than $1000           2422   \n",
       "89                Poss Of A Controlled Substance -misd           2334   \n",
       "17                                 Theft Second Degree           2238   \n",
       "48                                       Bench Warrant           2335   \n",
       "26                       Unauthorized Use Of A Vehicle           2240   \n",
       "616                    Threats To Do Bodily Harm -misd           2209   \n",
       "604  Possession Of An Open Container Of Alcohol (poca)           1848   \n",
       "632                                Sexual Solicitation           1707   \n",
       "\n",
       "     total_arrests  percent_black  \n",
       "5            36320       0.846311  \n",
       "4            14897       0.803048  \n",
       "19            8726       0.850218  \n",
       "35            8719       0.896318  \n",
       "3             6243       0.727855  \n",
       "52            5214       0.913694  \n",
       "606           4563       0.855139  \n",
       "83            3878       0.897370  \n",
       "376           3836       0.900678  \n",
       "194           3286       0.978089  \n",
       "53            2848       0.943118  \n",
       "13            2817       0.839901  \n",
       "614           2781       0.870910  \n",
       "89            2660       0.877444  \n",
       "17            2606       0.858787  \n",
       "48            2596       0.899461  \n",
       "26            2404       0.931780  \n",
       "616           2402       0.919650  \n",
       "604           2388       0.773869  \n",
       "632           2337       0.730424  "
      ]
     },
     "execution_count": 22,
     "metadata": {},
     "output_type": "execute_result"
    }
   ],
   "source": [
    "# Charges sorted by frequency\n",
    "charges.sort_values(by='total_arrests', ascending=False)[:20]"
   ]
  },
  {
   "cell_type": "code",
   "execution_count": 23,
   "metadata": {},
   "outputs": [],
   "source": [
    "# Arrests of white people\n",
    "white = raw_all.loc[raw_all['Defendant Race'] == 'WHITE']"
   ]
  },
  {
   "cell_type": "code",
   "execution_count": 24,
   "metadata": {},
   "outputs": [],
   "source": [
    "# Arrests of black people\n",
    "black = raw_all.loc[raw_all['Defendant Race'] == 'BLACK']"
   ]
  },
  {
   "cell_type": "code",
   "execution_count": 25,
   "metadata": {},
   "outputs": [
    {
     "data": {
      "text/plain": [
       "<matplotlib.axes._subplots.AxesSubplot at 0x7fb2909c9350>"
      ]
     },
     "execution_count": 25,
     "metadata": {},
     "output_type": "execute_result"
    },
    {
     "data": {
      "image/png": "[encoded data removed]",
      "text/plain": [
       "<Figure size 432x288 with 1 Axes>"
      ]
     },
     "metadata": {
      "needs_background": "light"
     },
     "output_type": "display_data"
    }
   ],
   "source": [
    "# Total number of black and white people arrested over time\n",
    "white.groupby(pd.Grouper(key='arrest_date', freq='M')).arrest.size().plot(legend=True, label='White')\n",
    "black.groupby(pd.Grouper(key='arrest_date', freq='M')).arrest.size().plot(legend=True, label='Black')"
   ]
  },
  {
   "cell_type": "code",
   "execution_count": 26,
   "metadata": {},
   "outputs": [
    {
     "data": {
      "text/plain": [
       "Simple Assault                                       0.172345\n",
       "No Permit                                            0.070689\n",
       "Unlawful Entry                                       0.041406\n",
       "Fugitive From Justice                                0.041373\n",
       "Driving Under Influence-1st Off                      0.029624\n",
       "Failure To Appear (OAG)                              0.024741\n",
       "Theft Second Degree (all Other Larceny)              0.021652\n",
       "Assault With A Dangerous Weapon                      0.018402\n",
       "Failure To Appear (USAO)                             0.018203\n",
       "Distribution Of A Controlled Substance               0.015593\n",
       "Permit Suspended-oas                                 0.013514\n",
       "Possession Of An Open Container Of Alcohol           0.013367\n",
       "Destruction Of Property Less Than $1000              0.013196\n",
       "Poss Of A Controlled Substance -misd                 0.012622\n",
       "Theft Second Degree                                  0.012366\n",
       "Bench Warrant                                        0.012318\n",
       "Unauthorized Use Of A Vehicle                        0.011407\n",
       "Threats To Do Bodily Harm -misd                      0.011398\n",
       "Possession Of An Open Container Of Alcohol (poca)    0.011331\n",
       "Sexual Solicitation                                  0.011089\n",
       "Name: Charge Description, dtype: float64"
      ]
     },
     "execution_count": 26,
     "metadata": {},
     "output_type": "execute_result"
    }
   ],
   "source": [
    "# Most frequent charges (percentage)\n",
    "raw_all['Charge Description'].value_counts(normalize='index')[:20]"
   ]
  }
 ],
 "metadata": {
  "kernelspec": {
   "display_name": "Python 3",
   "language": "python",
   "name": "python3"
  },
  "language_info": {
   "codemirror_mode": {
    "name": "ipython",
    "version": 3
   },
   "file_extension": ".py",
   "mimetype": "text/x-python",
   "name": "python",
   "nbconvert_exporter": "python",
   "pygments_lexer": "ipython3",
   "version": "3.7.6"
  }
 },
 "nbformat": 4,
 "nbformat_minor": 4
}
